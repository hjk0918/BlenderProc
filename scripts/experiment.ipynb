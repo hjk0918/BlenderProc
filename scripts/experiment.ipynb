{
 "cells": [
  {
   "cell_type": "code",
   "execution_count": 1,
   "metadata": {},
   "outputs": [
    {
     "ename": "Exception",
     "evalue": "\n###############\nThis script can only be run by \"blenderproc run\", instead of calling:\n\tpython /home/jhuangce/miniconda3/lib/python3.9/site-packages/ipykernel_launcher.py\ncall:\n\tblenderproc run /home/jhuangce/miniconda3/lib/python3.9/site-packages/ipykernel_launcher.py\n###############",
     "output_type": "error",
     "traceback": [
      "\u001b[0;31m---------------------------------------------------------------------------\u001b[0m",
      "\u001b[0;31mException\u001b[0m                                 Traceback (most recent call last)",
      "\u001b[1;32m/data2/jhuangce/BlenderProc/scripts/experiment.ipynb Cell 1'\u001b[0m in \u001b[0;36m<cell line: 1>\u001b[0;34m()\u001b[0m\n\u001b[0;32m----> <a href='vscode-notebook-cell://ssh-remote%2Bjhuangce/data2/jhuangce/BlenderProc/scripts/experiment.ipynb#ch0000000vscode-remote?line=0'>1</a>\u001b[0m \u001b[39mimport\u001b[39;00m \u001b[39mblenderproc\u001b[39;00m \u001b[39mas\u001b[39;00m \u001b[39mbproc\u001b[39;00m\n\u001b[1;32m      <a href='vscode-notebook-cell://ssh-remote%2Bjhuangce/data2/jhuangce/BlenderProc/scripts/experiment.ipynb#ch0000000vscode-remote?line=1'>2</a>\u001b[0m \u001b[39mimport\u001b[39;00m \u001b[39msys\u001b[39;00m\n\u001b[1;32m      <a href='vscode-notebook-cell://ssh-remote%2Bjhuangce/data2/jhuangce/BlenderProc/scripts/experiment.ipynb#ch0000000vscode-remote?line=2'>3</a>\u001b[0m sys\u001b[39m.\u001b[39mpath\u001b[39m.\u001b[39mappend(\u001b[39m'\u001b[39m\u001b[39m/home/jhuangce/miniconda3/lib/python3.9/site-packages\u001b[39m\u001b[39m'\u001b[39m)\n",
      "File \u001b[0;32m~/miniconda3/lib/python3.9/site-packages/blenderproc/__init__.py:50\u001b[0m, in \u001b[0;36m<module>\u001b[0;34m\u001b[0m\n\u001b[1;32m     47\u001b[0m     is_correct_startup_command \u001b[39m=\u001b[39m first_file_name \u001b[39min\u001b[39;00m [\u001b[39m\"\u001b[39m\u001b[39mblenderproc\u001b[39m\u001b[39m\"\u001b[39m, \u001b[39m\"\u001b[39m\u001b[39mcommand_line.py\u001b[39m\u001b[39m\"\u001b[39m]\n\u001b[1;32m     48\u001b[0m \u001b[39mif\u001b[39;00m \u001b[39m\"\u001b[39m\u001b[39mOUTSIDE_OF_THE_INTERNAL_BLENDER_PYTHON_ENVIRONMENT_BUT_IN_RUN_SCRIPT\u001b[39m\u001b[39m\"\u001b[39m \u001b[39mnot\u001b[39;00m \u001b[39min\u001b[39;00m os\u001b[39m.\u001b[39menviron \\\n\u001b[1;32m     49\u001b[0m         \u001b[39mand\u001b[39;00m \u001b[39mnot\u001b[39;00m is_correct_startup_command:\n\u001b[0;32m---> 50\u001b[0m     \u001b[39mraise\u001b[39;00m \u001b[39mException\u001b[39;00m(\u001b[39m\"\u001b[39m\u001b[39m\\n\u001b[39;00m\u001b[39m###############\u001b[39m\u001b[39m\\n\u001b[39;00m\u001b[39mThis script can only be run by \u001b[39m\u001b[39m\\\"\u001b[39;00m\u001b[39mblenderproc run\u001b[39m\u001b[39m\\\"\u001b[39;00m\u001b[39m, instead of calling:\u001b[39m\u001b[39m\"\u001b[39m\n\u001b[1;32m     51\u001b[0m                     \u001b[39m\"\u001b[39m\u001b[39m\\n\u001b[39;00m\u001b[39m\\t\u001b[39;00m\u001b[39mpython \u001b[39m\u001b[39m{}\u001b[39;00m\u001b[39m\\n\u001b[39;00m\u001b[39mcall:\u001b[39m\u001b[39m\\n\u001b[39;00m\u001b[39m\\t\u001b[39;00m\u001b[39mblenderproc run \u001b[39m\u001b[39m{}\u001b[39;00m\u001b[39m\\n\u001b[39;00m\u001b[39m###############\u001b[39m\u001b[39m\"\u001b[39m\u001b[39m.\u001b[39mformat(sys\u001b[39m.\u001b[39margv[\u001b[39m0\u001b[39m], sys\u001b[39m.\u001b[39margv[\u001b[39m0\u001b[39m]))\n",
      "\u001b[0;31mException\u001b[0m: \n###############\nThis script can only be run by \"blenderproc run\", instead of calling:\n\tpython /home/jhuangce/miniconda3/lib/python3.9/site-packages/ipykernel_launcher.py\ncall:\n\tblenderproc run /home/jhuangce/miniconda3/lib/python3.9/site-packages/ipykernel_launcher.py\n###############"
     ]
    }
   ],
   "source": [
    "# import blenderproc as bproc\n",
    "import sys\n",
    "sys.path.append('/home/jhuangce/miniconda3/lib/python3.9/site-packages')\n",
    "import cv2\n",
    "import os\n",
    "from os.path import join\n",
    "import numpy as np\n",
    "import re\n",
    "import imageio\n",
    "import sys\n",
    "sys.path.append('/data2/jhuangce/BlenderProc/scripts')\n",
    "from camera import *\n",
    "from utils import *"
   ]
  },
  {
   "cell_type": "code",
   "execution_count": 2,
   "metadata": {},
   "outputs": [
    {
     "ename": "NameError",
     "evalue": "name 'load_scene_objects' is not defined",
     "output_type": "error",
     "traceback": [
      "\u001b[0;31m---------------------------------------------------------------------------\u001b[0m",
      "\u001b[0;31mNameError\u001b[0m                                 Traceback (most recent call last)",
      "\u001b[1;32m/data2/jhuangce/BlenderProc/scripts/experiment.ipynb Cell 2'\u001b[0m in \u001b[0;36m<cell line: 1>\u001b[0;34m()\u001b[0m\n\u001b[0;32m----> <a href='vscode-notebook-cell://ssh-remote%2Bjhuangce/data2/jhuangce/BlenderProc/scripts/experiment.ipynb#ch0000001vscode-remote?line=0'>1</a>\u001b[0m loaded_objects \u001b[39m=\u001b[39m load_scene_objects(scene_idx\u001b[39m=\u001b[39m\u001b[39m1\u001b[39m)\n",
      "\u001b[0;31mNameError\u001b[0m: name 'load_scene_objects' is not defined"
     ]
    }
   ],
   "source": [
    "loaded_objects = load_scene_objects(scene_idx=1)"
   ]
  }
 ],
 "metadata": {
  "kernelspec": {
   "display_name": "Python 3.9.12 ('base')",
   "language": "python",
   "name": "python3"
  },
  "language_info": {
   "codemirror_mode": {
    "name": "ipython",
    "version": 3
   },
   "file_extension": ".py",
   "mimetype": "text/x-python",
   "name": "python",
   "nbconvert_exporter": "python",
   "pygments_lexer": "ipython3",
   "version": "3.9.12"
  },
  "orig_nbformat": 4,
  "vscode": {
   "interpreter": {
    "hash": "c25b210a7e422565fa21159249b370c828180fec1b94157b4ce350e690a61b6d"
   }
  }
 },
 "nbformat": 4,
 "nbformat_minor": 2
}
